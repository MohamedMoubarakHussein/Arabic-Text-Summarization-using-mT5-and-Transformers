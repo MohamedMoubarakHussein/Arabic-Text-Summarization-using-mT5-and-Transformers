{
 "cells": [
  {
   "cell_type": "code",
   "execution_count": 1,
   "id": "8cb66a83",
   "metadata": {},
   "outputs": [],
   "source": [
    "import re\n",
    "with open(\"test.txt.ar\" , 'r' , encoding=\"utf8\") as f:\n",
    "    summer = f.readlines()\n",
    "\n",
    "\n",
    "with open(\"test.src.ar\" , 'r' , encoding=\"utf8\") as f:\n",
    "    text = f.readlines()\n",
    "\n",
    " "
   ]
  },
  {
   "cell_type": "code",
   "execution_count": 2,
   "id": "a8b76643",
   "metadata": {},
   "outputs": [],
   "source": [
    "unique =[]\n",
    "def clean_word(i):\n",
    "    i= i.replace(\"\\u064b\", \"\");\n",
    "    i= i.replace(\"\\u064f\", \"\");\n",
    "    i= i.replace(\"\\u064c\", \"\");\n",
    "    i= i.replace(\"\\u0652\", \"\");\n",
    "    i= i.replace(\"\\u064d\", \"\");\n",
    "    i= i.replace(\"\\u0650\", \"\");\n",
    "    i= i.replace(\"\\u0651\", \"\");\n",
    "    i= i.replace(\"\\u064e\", \"\");\n",
    "    i = re.sub(r'\\s*[A-Za-z]+\\b', '' , i)\n",
    "    if i not in unique:\n",
    "        unique.append(i)\n",
    "    return (i)\n",
    "\n",
    "def clean(list_of_list_of_word) :\n",
    "    new_big_list =[]\n",
    "    for index in range(0,len(list_of_list_of_word)):\n",
    "        x= list_of_list_of_word[index]\n",
    "        xx = x.split()\n",
    "        s = \"\"\n",
    "        for i in xx:           \n",
    "            i= clean_word(i)\n",
    "            s += i+' '\n",
    "        new_big_list.append(s)\n",
    "        \n",
    "    return(new_big_list)\n"
   ]
  },
  {
   "cell_type": "code",
   "execution_count": 3,
   "id": "8cb65098",
   "metadata": {},
   "outputs": [],
   "source": [
    "summer = clean(summer)"
   ]
  },
  {
   "cell_type": "code",
   "execution_count": 4,
   "id": "a97deb71",
   "metadata": {},
   "outputs": [],
   "source": [
    "text =clean(text)"
   ]
  },
  {
   "cell_type": "raw",
   "id": "e88dbfb6",
   "metadata": {},
   "source": [
    "summer[95]\n"
   ]
  },
  {
   "cell_type": "code",
   "execution_count": 5,
   "id": "5261115d",
   "metadata": {},
   "outputs": [
    {
     "name": "stdout",
     "output_type": "stream",
     "text": [
      "170624\n"
     ]
    }
   ],
   "source": [
    "print(len(unique))\n",
    "with open(\"word.txt\" , 'w' , encoding=\"utf8\") as f:\n",
    "    for i in unique:\n",
    "        f.write(i+' ')"
   ]
  },
  {
   "cell_type": "code",
   "execution_count": 7,
   "id": "6e1614af",
   "metadata": {},
   "outputs": [],
   "source": [
    "import csv\n",
    "filename = 'Small22_dataset.csv'\n",
    "with open(filename, 'w',encoding=\"utf8\" ) as file:\n",
    "    csvwriter = csv.writer(file) \n",
    "    csvwriter.writerow([\"Text\" , \"summer\"])\n",
    "    array = []\n",
    "    \n",
    "    \n",
    "    for i in range(0, len(summer)):\n",
    "        array.append([text[i] , summer[i]])\n",
    "    csvwriter.writerows(array)\n"
   ]
  },
  {
   "cell_type": "code",
   "execution_count": null,
   "id": "ff24684c",
   "metadata": {},
   "outputs": [],
   "source": []
  }
 ],
 "metadata": {
  "kernelspec": {
   "display_name": "Python 3 (ipykernel)",
   "language": "python",
   "name": "python3"
  },
  "language_info": {
   "codemirror_mode": {
    "name": "ipython",
    "version": 3
   },
   "file_extension": ".py",
   "mimetype": "text/x-python",
   "name": "python",
   "nbconvert_exporter": "python",
   "pygments_lexer": "ipython3",
   "version": "3.9.12"
  }
 },
 "nbformat": 4,
 "nbformat_minor": 5
}
